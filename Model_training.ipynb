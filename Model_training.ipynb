{
 "cells": [
  {
   "cell_type": "code",
   "execution_count": 3,
   "metadata": {},
   "outputs": [],
   "source": [
    "import tensorflow as tf\n",
    "\n",
    "import model\n",
    "import utils\n",
    "import images\n",
    "\n",
    "\n",
    "def get_loss(result, y):\n",
    "    cross_entropy = tf.nn.softmax_cross_entropy_with_logits(logits=result, labels=y)\n",
    "    return tf.reduce_mean(cross_entropy)\n",
    "\n",
    "\n",
    "def get_optimizer(loss):\n",
    "    train_variables = tf.trainable_variables()\n",
    "    optimizer = tf.train.AdamOptimizer(learning_rate=utils.lr).minimize(loss, var_list=train_variables)\n",
    "    return optimizer\n"
   ]
  },
  {
   "cell_type": "code",
   "execution_count": 5,
   "metadata": {},
   "outputs": [
    {
     "name": "stdout",
     "output_type": "stream",
     "text": [
      "epoch: 0, loss: 0.7948852777481079\n",
      "epoch: 1, loss: 0.6832094788551331\n",
      "epoch: 2, loss: 0.6053405404090881\n",
      "epoch: 3, loss: 0.5327686071395874\n",
      "epoch: 4, loss: 0.45132964849472046\n",
      "epoch: 5, loss: 0.37365809082984924\n",
      "epoch: 6, loss: 0.31005212664604187\n",
      "epoch: 7, loss: 0.25331544876098633\n",
      "epoch: 8, loss: 0.2204148769378662\n",
      "epoch: 9, loss: 0.1936061978340149\n",
      "epoch: 10, loss: 0.16615842282772064\n",
      "epoch: 11, loss: 0.1471930593252182\n",
      "epoch: 12, loss: 0.12295492738485336\n",
      "epoch: 13, loss: 0.11805987358093262\n",
      "epoch: 14, loss: 0.11160984635353088\n",
      "epoch: 15, loss: 0.09471574425697327\n",
      "epoch: 16, loss: 0.09353123605251312\n",
      "epoch: 17, loss: 0.09237580746412277\n",
      "epoch: 18, loss: 0.08499353379011154\n",
      "epoch: 19, loss: 0.08657003194093704\n",
      "epoch: 20, loss: 0.07103747874498367\n",
      "epoch: 21, loss: 0.06949954479932785\n",
      "epoch: 22, loss: 0.05668080225586891\n",
      "epoch: 23, loss: 0.0762103945016861\n",
      "epoch: 24, loss: 0.0629676878452301\n",
      "epoch: 25, loss: 0.05120156705379486\n",
      "epoch: 26, loss: 0.06258567422628403\n",
      "epoch: 27, loss: 0.06487313657999039\n",
      "epoch: 28, loss: 0.04822716861963272\n",
      "epoch: 29, loss: 0.05305160954594612\n",
      "epoch: 30, loss: 0.05310443043708801\n",
      "epoch: 31, loss: 0.060000963509082794\n",
      "epoch: 32, loss: 0.04409049078822136\n",
      "epoch: 33, loss: 0.0320386104285717\n",
      "epoch: 34, loss: 0.03805927187204361\n",
      "epoch: 35, loss: 0.030949460342526436\n",
      "epoch: 36, loss: 0.03552277013659477\n",
      "epoch: 37, loss: 0.043462809175252914\n",
      "epoch: 38, loss: 0.03354647383093834\n",
      "epoch: 39, loss: 0.04664517194032669\n",
      "epoch: 40, loss: 0.04824351519346237\n",
      "epoch: 41, loss: 0.03386251628398895\n",
      "epoch: 42, loss: 0.033055804669857025\n",
      "epoch: 43, loss: 0.026795387268066406\n",
      "epoch: 44, loss: 0.022230850532650948\n",
      "epoch: 45, loss: 0.03617541864514351\n",
      "epoch: 46, loss: 0.027525808662176132\n",
      "epoch: 47, loss: 0.026122620329260826\n",
      "epoch: 48, loss: 0.032926179468631744\n",
      "epoch: 49, loss: 0.03165451064705849\n"
     ]
    }
   ],
   "source": [
    "#Training Model\n",
    "x_train, y_train, _ = images.read_traffic_light(True)\n",
    "x_test, y_test, _ = images.read_traffic_light(False)\n",
    "\n",
    "train_batches = x_train.shape[0]\n",
    "\n",
    "x, y, one_hot, result = model.get_model(is_train=True)\n",
    "loss = get_loss(result, one_hot)\n",
    "optimizer = get_optimizer(loss)\n",
    "\n",
    "saver = tf.train.Saver()\n",
    "with tf.Session() as sess:\n",
    "    sess.run(tf.global_variables_initializer())\n",
    "\n",
    "    for epoch in range(utils.epochs):\n",
    "        for batch in range(train_batches // utils.batch_size):\n",
    "            start = batch * utils.batch_size\n",
    "            next_x = x_train[start:start + utils.batch_size]\n",
    "            next_y = y_train[start:start + utils.batch_size]\n",
    "\n",
    "            sess.run(optimizer, feed_dict={x: next_x, y: next_y})\n",
    "\n",
    "        loss_result = sess.run(loss, feed_dict={x: x_test, y: y_test})\n",
    "        print(\"epoch: {}, loss: {}\".format(epoch, loss_result))\n",
    "\n",
    "    saver.save(sess, \"./result/result.ckpt\")\n",
    "\n",
    "\n"
   ]
  },
  {
   "cell_type": "code",
   "execution_count": null,
   "metadata": {},
   "outputs": [],
   "source": []
  }
 ],
 "metadata": {
  "kernelspec": {
   "display_name": "Python [conda env:TF] *",
   "language": "python",
   "name": "conda-env-TF-py"
  },
  "language_info": {
   "codemirror_mode": {
    "name": "ipython",
    "version": 3
   },
   "file_extension": ".py",
   "mimetype": "text/x-python",
   "name": "python",
   "nbconvert_exporter": "python",
   "pygments_lexer": "ipython3",
   "version": "3.6.7"
  }
 },
 "nbformat": 4,
 "nbformat_minor": 2
}
